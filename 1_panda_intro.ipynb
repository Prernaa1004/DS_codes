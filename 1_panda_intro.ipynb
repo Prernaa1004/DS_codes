{
 "cells": [
  {
   "cell_type": "code",
   "execution_count": null,
   "metadata": {},
   "outputs": [],
   "source": [
    "import pandas as pd"
   ]
  },
  {
   "cell_type": "code",
   "execution_count": null,
   "metadata": {},
   "outputs": [],
   "source": [
    "df=pd.DataFrame([[2,3,4],[4,5,6],[7,8,9],[10,11,12],[13,14,15],[16,17,18]],columns=[\"A\",\"B\",\"C\"])\n"
   ]
  },
  {
   "cell_type": "code",
   "execution_count": null,
   "metadata": {},
   "outputs": [
    {
     "name": "stdout",
     "output_type": "stream",
     "text": [
      "    A   B   C\n",
      "3  10  11  12\n"
     ]
    }
   ],
   "source": [
    "print(df)\n",
    "#head prints only first 5 rows by default\n",
    "print(df.head())\n",
    "print(df.head(2))\n",
    "#tail prints only last 5 rows by default\n",
    "print(df.tail())\n",
    "print(df.tail(2))\n",
    "#sample prints random data\n",
    "print(df.sample(3))\n",
    "\n",
    "\n",
    "\n"
   ]
  },
  {
   "cell_type": "code",
   "execution_count": 20,
   "metadata": {},
   "outputs": [
    {
     "name": "stdout",
     "output_type": "stream",
     "text": [
      "Index(['A', 'B', 'C'], dtype='object')\n",
      "RangeIndex(start=0, stop=6, step=1)\n",
      "[0, 1, 2, 3, 4, 5]\n"
     ]
    }
   ],
   "source": [
    "print(df.columns)\n",
    "print(df.index)\n",
    "print(df.index.tolist())"
   ]
  },
  {
   "cell_type": "code",
   "execution_count": 31,
   "metadata": {},
   "outputs": [
    {
     "name": "stdout",
     "output_type": "stream",
     "text": [
      "<class 'pandas.core.frame.DataFrame'>\n",
      "RangeIndex: 6 entries, 0 to 5\n",
      "Data columns (total 3 columns):\n",
      " #   Column  Non-Null Count  Dtype\n",
      "---  ------  --------------  -----\n",
      " 0   A       6 non-null      int64\n",
      " 1   B       6 non-null      int64\n",
      " 2   C       6 non-null      int64\n",
      "dtypes: int64(3)\n",
      "memory usage: 276.0 bytes\n",
      "None\n",
      "               A          B          C\n",
      "count   6.000000   6.000000   6.000000\n",
      "mean    8.666667   9.666667  10.666667\n",
      "std     5.354126   5.354126   5.354126\n",
      "min     2.000000   3.000000   4.000000\n",
      "25%     4.750000   5.750000   6.750000\n",
      "50%     8.500000   9.500000  10.500000\n",
      "75%    12.250000  13.250000  14.250000\n",
      "max    16.000000  17.000000  18.000000\n",
      "A    6\n",
      "B    6\n",
      "C    6\n",
      "dtype: int64\n",
      "[ 2  4  7 10 13 16]\n",
      "(6, 3)\n",
      "18\n"
     ]
    }
   ],
   "source": [
    "print(df.info())\n",
    "print(df.describe())\n",
    "print(df.nunique())\n",
    "print(df[\"A\"].unique())\n",
    "print(df.shape)\n",
    "print(df.size)"
   ]
  }
 ],
 "metadata": {
  "kernelspec": {
   "display_name": "Python 3",
   "language": "python",
   "name": "python3"
  },
  "language_info": {
   "codemirror_mode": {
    "name": "ipython",
    "version": 3
   },
   "file_extension": ".py",
   "mimetype": "text/x-python",
   "name": "python",
   "nbconvert_exporter": "python",
   "pygments_lexer": "ipython3",
   "version": "3.12.1"
  }
 },
 "nbformat": 4,
 "nbformat_minor": 2
}
